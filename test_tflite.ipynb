{
 "cells": [
  {
   "cell_type": "code",
   "execution_count": null,
   "id": "afraid-music",
   "metadata": {},
   "outputs": [],
   "source": [
    "import argparse\n",
    "import time\n",
    " \n",
    "import numpy as np\n",
    "from PIL import Image\n",
    "#import tensorflow as tf # TF1\n",
    "import tflite_runtime.interpreter as tflite\n",
    "import cv2\n",
    "import os "
   ]
  },
  {
   "cell_type": "code",
   "execution_count": null,
   "id": "reverse-worcester",
   "metadata": {},
   "outputs": [],
   "source": [
    "def load_labels(filename):\n",
    "    with open(filename, 'r') as f:\n",
    "        return [line.strip() for line in f.readlines()]"
   ]
  },
  {
   "cell_type": "code",
   "execution_count": null,
   "id": "norman-designer",
   "metadata": {},
   "outputs": [],
   "source": [
    "model_file = '/home/ys/tensorflow_test/test/tflite_python_test/float16_model.tflite'\n",
    "#model_file = '/home/ys/tensorflow_test/test/tflite_python_test/tmp/mobilenet_v1_1.0_224.tflite'\n",
    "image = '../image1.jpg'"
   ]
  },
  {
   "cell_type": "code",
   "execution_count": null,
   "id": "younger-charleston",
   "metadata": {},
   "outputs": [],
   "source": [
    "def detect_tflite(model_file, image):\n",
    "    #interpreter = tf.lite.Interpreter(model_path=model_file)\n",
    "    interpreter = tflite.Interpreter(model_path=model_file)\n",
    "    interpreter.allocate_tensors()\n",
    "    print('ok')\n",
    "    input_details = interpreter.get_input_details()\n",
    "    output_details = interpreter.get_output_details()\n",
    "    # check the type of the input tensor\n",
    "    #floating_model = input_details[0]['dtype'] == np.float32\n",
    "\n",
    "     # NxHxWxC, H:1, W:2\n",
    "    height = input_details[0]['shape'][1]\n",
    "    width = input_details[0]['shape'][2]\n",
    "\n",
    "    #img = Image.open(image_path).resize((width, height))\n",
    "    img = cv2.resize(image, (width, height), interpolation = cv2.INTER_AREA)\n",
    "    # add N dim\n",
    "    input_data = np.expand_dims(img, axis=0)\n",
    "\n",
    "    #if floating_model:\n",
    "    #    input_data = (np.float32(input_data) - args.input_mean) / args.input_std\n",
    "\n",
    "    input_data = input_data.astype(np.float32) / 255\n",
    "    print(input_data.dtype)\n",
    "    input_shape = input_details[0]['shape']\n",
    "    #input_data = np.array(np.random.random_sample(input_shape), dtype=np.uint8)\n",
    "\n",
    "    interpreter.set_tensor(input_details[0]['index'], input_data)\n",
    "    #time_start = time.time()\n",
    "    interpreter.invoke()\n",
    "    #time_end   = time.time()\n",
    "    #print(output_details)\n",
    "    # 函数`get_tensor()`返回该tensor数据的一份拷贝\n",
    "    # 使用`tensor()`返回该tensor的指针\n",
    "    detection_boxes = interpreter.get_tensor(output_details[0]['index'])[0]\n",
    "    detection_classes = interpreter.get_tensor(output_details[1]['index'])[0]\n",
    "    detection_scores = interpreter.get_tensor(output_details[2]['index'])[0]\n",
    "    num_detections = interpreter.get_tensor(output_details[3]['index'])[0]\n",
    "    #print(detection_boxes,detection_classes,detection_scores,num_detections)\n",
    "    #print('time cost',(time_end - time_start) * 1000)\n",
    "    return(detection_boxes,detection_classes,detection_scores,num_detections)"
   ]
  },
  {
   "cell_type": "code",
   "execution_count": null,
   "id": "private-declaration",
   "metadata": {},
   "outputs": [],
   "source": [
    "label_dict = {0:'ball', 1:'goal', 2:'robot'}\n",
    "def plot_box(img, detection_boxes, detection_classes, detection_scores, num_detections):\n",
    "    Height = img.shape[0]\n",
    "    Width = img.shape[1]\n",
    "    bboxes = []\n",
    "    cls_list = []\n",
    "    for i in range(int(num_detections)):\n",
    "    \n",
    "        if detection_scores[i] < 0.3:\n",
    "            continue\n",
    "        else:\n",
    "            y1 = int(detection_boxes[i][0] * Height)\n",
    "            x1 = int(detection_boxes[i][1] * Width)\n",
    "            y2 = int(detection_boxes[i][2] * Height)\n",
    "            x2 = int(detection_boxes[i][3] * Width)\n",
    "            bboxes.append([x1, y1, x2, y2])\n",
    "            cls = int(detection_classes[i])\n",
    "            if cls in cls_list:\n",
    "                continue\n",
    "            else:\n",
    "                cls_list.append(cls)\n",
    "            cls_name = label_dict[cls]\n",
    "            print(cls_name)\n",
    "            cv2.rectangle(img, (x1, y1), (x2, y2), (0, 255, 0), 2)\n",
    "            cv2.putText(img, cls_name+str(detection_scores[i]), (x1, y1), cv2.FONT_HERSHEY_SIMPLEX,\n",
    "                                1.0, (255, 255, 255), 1, cv2.LINE_AA, False)\n",
    "    cv2.imshow(\"figure\", img)\n",
    "    cv2.waitKey()\n",
    "    if 0xFF == ord('q'):\n",
    "        cv2.destroyAllWindows() "
   ]
  },
  {
   "cell_type": "code",
   "execution_count": null,
   "id": "unknown-grill",
   "metadata": {},
   "outputs": [],
   "source": [
    "\n",
    "img_path_dir = '/home/ys/image/2020_12_24_09h41m21s'\n",
    "img_path_lst = os.listdir(img_path_dir)\n",
    "\n",
    "for img_path in img_path_lst:\n",
    "    img = cv2.imread(os.path.join(img_path_dir, img_path))\n",
    "    cv2.cvtColor(img,cv2.COLOR_BGR2RGB)\n",
    "    print(img.shape)\n",
    "    time_start=time.time()\n",
    "    #ret, frame = cap.read()\n",
    "    detection_boxes,detection_classes,detection_scores,num_detections = detect_tflite(model_file, img)\n",
    "    \n",
    "    time_end=time.time()\n",
    "    print('time cost',(time_end-time_start)*1000,'ms')\n",
    "    \n",
    "    plot_box(img, detection_boxes, detection_classes, detection_scores,num_detections)\n",
    "if cv2.waitKey(25) & 0xFF == ord('q'):\n",
    "    cv2.destroyAllWindows()"
   ]
  },
  {
   "cell_type": "code",
   "execution_count": null,
   "id": "varied-mandate",
   "metadata": {},
   "outputs": [],
   "source": []
  }
 ],
 "metadata": {
  "kernelspec": {
   "display_name": "Python 3",
   "language": "python",
   "name": "python3"
  },
  "language_info": {
   "codemirror_mode": {
    "name": "ipython",
    "version": 3
   },
   "file_extension": ".py",
   "mimetype": "text/x-python",
   "name": "python",
   "nbconvert_exporter": "python",
   "pygments_lexer": "ipython3",
   "version": "3.6.9"
  }
 },
 "nbformat": 4,
 "nbformat_minor": 5
}
