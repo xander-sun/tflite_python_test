{
 "cells": [
  {
   "cell_type": "code",
   "execution_count": 1,
   "metadata": {},
   "outputs": [],
   "source": [
    "import tensorflow as tf\n"
   ]
  },
  {
   "cell_type": "code",
   "execution_count": 2,
   "metadata": {},
   "outputs": [],
   "source": [
    "#model_dir = '/home/xs/tensorflow_test/nets/ssdlite_mobilenet_v2_coco_2018_05_09/frozen_inference_graph.pb'\n",
    "#out_model_dir = '/home/xs/tensorflow_test/nets/ssdlite_mobilenet_v2_coco_2018_05_09/'\n",
    "\n",
    "#model_dir = '/home/ys/tensorflow_test/nets/sycu_ssd_mobilenet_v3_20210415/frozen1/tflite_graph.pb'\n",
    "#out_model_dir = '/home/ys/tensorflow_test/nets/sycu_ssd_mobilenet_v3_20210415/frozen1'\n",
    "\n",
    "model_dir = '/home/xs/tensorflow_test/nets/ssd_mobilenet_v3_small_coco_2020_01_14/frozen_inference_graph.pb'\n",
    "out_model_dir = '/home/xs/tensorflow_test/nets/ssd_mobilenet_v3_small_coco_2020_01_14/'"
   ]
  },
  {
   "cell_type": "code",
   "execution_count": 3,
   "metadata": {
    "scrolled": false
   },
   "outputs": [
    {
     "name": "stderr",
     "output_type": "stream",
     "text": [
      "/home/xs/.local/lib/python3.6/site-packages/tensorflow_core/lite/python/lite.py:846: UserWarning: Property post_training_quantize is deprecated, please use optimizations=[Optimize.DEFAULT] instead.\n",
      "  \" instead.\" % name)\n"
     ]
    }
   ],
   "source": [
    "input_arrays = ['normalized_input_image_tensor'] ### mobilnet_v3 input\n",
    "#input_arrays = ['image_tensor']      ### mobilnet_v2 input\n",
    "output_arrays = ['TFLite_Detection_PostProcess','TFLite_Detection_PostProcess:1',\n",
    "'TFLite_Detection_PostProcess:2','TFLite_Detection_PostProcess:3']   ### mobilnet_v3 output\n",
    "#output_arrays = ['detection_boxes','detection_classes','detection_scores','num_detections'] ### mobilnet_v2 output\n",
    "\n",
    "#tf.enable_control_flow_v2()\n",
    "converter = tf.compat.v1.lite.TFLiteConverter.from_frozen_graph(model_dir,\n",
    "        input_arrays=input_arrays, \n",
    "        output_arrays=output_arrays,               \n",
    "        input_shapes={input_arrays[0]:[1,320,320,3]}) # path to the SavedModel directory\n",
    "converter.target_spec.supported_types = [tf.float16]\n",
    "#converter.inference_input_type = tf.float16\n",
    "#converter.quantized_input_stats = {\"normalized_input_image_tensor\": (128, 128)} ### mobilnet_v3 convert input\n",
    "converter.quantized_input_stats = {input_arrays[0]: (128, 128)}\n",
    "converter.allow_custom_ops=True\n",
    "converter.post_training_quantize=True \n",
    "converter.optimizations = [tf.lite.Optimize.DEFAULT]\n",
    "#converter = tf.compat.v1.lite.TFLiteConverter.from_saved_model(model_dir) # path to the SavedModel direct\n",
    "#concrete_func = converter.signatures['serving_default']\n",
    "# Set the shape of the input in the concrete function.\n",
    "#concrete_func.inputs[0].set_shape([1,320,320,3]) # I also tried with [1,300,300,3]\n",
    "\n",
    "# Convert the model to a TFLite model.\n",
    "#converter =  tf.compat.v1.TFLiteConverter.from_concrete_functions([concrete_func])\n",
    "#converter.optimizations =  [tf.lite.Optimize.DEFAULT]\n",
    "#converter.target_spec.supported_ops = [tf.lite.OpsSet.TFLITE_BUILTINS, tf.lite.OpsSet.SELECT_TF_OPS]\n",
    "#converter.target_spec.supported_ops = [tf.lite.OpsSet.TFLITE_BUILTINS_INT8, tf.lite.OpsSet.TFLITE_BUILTINS]\n",
    "tflite_model = converter.convert()\n",
    "\n",
    "# Save the model.\n",
    "with open(out_model_dir+'float16_model.tflite', 'wb') as f:\n",
    "    f.write(tflite_model)\n"
   ]
  },
  {
   "cell_type": "code",
   "execution_count": 4,
   "metadata": {},
   "outputs": [],
   "source": [
    "# RUN ONCE (Update the model)\n",
    "#model = tf.saved_model.load(model_dir)\n",
    "#concrete_func = model.signatures['serving_default']\n",
    "#print(concrete_func.outputs)\n",
    "#concrete_func.inputs[0].set_shape([1, 320, 320, 3])\n",
    "#tf.saved_model.save(model, out_model_dir)"
   ]
  },
  {
   "cell_type": "code",
   "execution_count": 5,
   "metadata": {},
   "outputs": [],
   "source": [
    "# RUN REPEATEDLY (Convert the model)\n",
    "#converter = tf.lite.TFLiteConverter.from_saved_model(out_model_dir,signature_keys=['serving_default'])\n",
    "#converter = tf.compat.v1.lite.TFLiteConverter.from_saved_model(model_dir)\n",
    "#converter.target_spec.supported_ops = [tf.lite.OpsSet.TFLITE_BUILTINS, tf.lite.OpsSet.SELECT_TF_OPS]\n",
    "#converter.target_spec.supported_ops = [tf.lite.OpsSet.SELECT_TF_OPS]\n",
    "#converter.allow_custom_ops = True\n",
    "#converter.experimental_new_converter = True\n",
    "#converter.optimizations = [tf.lite.Optimize.DEFAULT]\n",
    "#tflite_model = converter.convert()\n"
   ]
  },
  {
   "cell_type": "code",
   "execution_count": null,
   "metadata": {},
   "outputs": [],
   "source": []
  }
 ],
 "metadata": {
  "kernelspec": {
   "display_name": "Python 3",
   "language": "python",
   "name": "python3"
  },
  "language_info": {
   "codemirror_mode": {
    "name": "ipython",
    "version": 3
   },
   "file_extension": ".py",
   "mimetype": "text/x-python",
   "name": "python",
   "nbconvert_exporter": "python",
   "pygments_lexer": "ipython3",
   "version": "3.6.9"
  }
 },
 "nbformat": 4,
 "nbformat_minor": 5
}
